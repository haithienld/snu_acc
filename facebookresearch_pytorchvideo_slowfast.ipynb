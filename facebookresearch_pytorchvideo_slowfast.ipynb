{
 "cells": [
  {
   "cell_type": "markdown",
   "id": "environmental-adrian",
   "metadata": {
    "id": "environmental-adrian"
   },
   "source": [
    "# SlowFast\n",
    "\n",
    "*Author: FAIR PyTorchVideo*\n",
    "\n",
    "**SlowFast networks pretrained on the Kinetics 400 dataset**\n",
    "\n",
    "\n",
    "### Example Usage\n",
    "\n",
    "#### Imports\n",
    "\n",
    "Load the model:"
   ]
  },
  {
   "cell_type": "code",
   "execution_count": 1,
   "id": "handed-sleep",
   "metadata": {
    "id": "handed-sleep"
   },
   "outputs": [
    {
     "name": "stderr",
     "output_type": "stream",
     "text": [
      "/home/pidl/anaconda3/envs/slowfast/lib/python3.9/site-packages/tqdm/auto.py:22: TqdmWarning: IProgress not found. Please update jupyter and ipywidgets. See https://ipywidgets.readthedocs.io/en/stable/user_install.html\n",
      "  from .autonotebook import tqdm as notebook_tqdm\n",
      "Downloading: \"https://github.com/facebookresearch/pytorchvideo/zipball/main\" to /home/pidl/.cache/torch/hub/main.zip\n",
      "Downloading: \"https://dl.fbaipublicfiles.com/pytorchvideo/model_zoo/kinetics/SLOWFAST_8x8_R50.pyth\" to /home/pidl/.cache/torch/hub/checkpoints/SLOWFAST_8x8_R50.pyth\n",
      "100%|████████████████████████████████████████| 264M/264M [00:28<00:00, 9.79MB/s]\n"
     ]
    }
   ],
   "source": [
    "import torch\n",
    "# Choose the `slowfast_r50` model \n",
    "model = torch.hub.load('facebookresearch/pytorchvideo', 'slowfast_r50', pretrained=True)"
   ]
  },
  {
   "cell_type": "code",
   "execution_count": 7,
   "id": "a99428e0",
   "metadata": {},
   "outputs": [
    {
     "data": {
      "text/plain": [
       "device(type='cuda')"
      ]
     },
     "execution_count": 7,
     "metadata": {},
     "output_type": "execute_result"
    }
   ],
   "source": [
    "device = torch.device(\"cuda\" if torch.cuda.is_available() else \"cpu\")\n",
    "device"
   ]
  },
  {
   "cell_type": "markdown",
   "id": "polyphonic-nashville",
   "metadata": {
    "id": "polyphonic-nashville"
   },
   "source": [
    "Import remaining functions:"
   ]
  },
  {
   "cell_type": "code",
   "execution_count": 8,
   "id": "protecting-warner",
   "metadata": {
    "id": "protecting-warner"
   },
   "outputs": [],
   "source": [
    "from typing import Dict\n",
    "import json\n",
    "import urllib\n",
    "from torchvision.transforms import Compose, Lambda\n",
    "from torchvision.transforms._transforms_video import (\n",
    "    CenterCropVideo,\n",
    "    NormalizeVideo,\n",
    ")\n",
    "from pytorchvideo.data.encoded_video import EncodedVideo\n",
    "from pytorchvideo.transforms import (\n",
    "    ApplyTransformToKey,\n",
    "    ShortSideScale,\n",
    "    UniformTemporalSubsample,\n",
    "    UniformCropVideo\n",
    ") "
   ]
  },
  {
   "cell_type": "markdown",
   "id": "conditional-spice",
   "metadata": {
    "id": "conditional-spice"
   },
   "source": [
    "#### Setup\n",
    "\n",
    "Set the model to eval mode and move to desired device."
   ]
  },
  {
   "cell_type": "code",
   "execution_count": 9,
   "id": "minute-fisher",
   "metadata": {
    "attributes": {
     "classes": [
      "python "
     ],
     "id": ""
    },
    "id": "minute-fisher"
   },
   "outputs": [],
   "source": [
    "# Set to GPU or CPU\n",
    "device = \"cuda\"\n",
    "model = model.eval()\n",
    "model = model.to(device)"
   ]
  },
  {
   "cell_type": "markdown",
   "id": "worse-backing",
   "metadata": {
    "id": "worse-backing"
   },
   "source": [
    "Download the id to label mapping for the Kinetics 400 dataset on which the torch hub models were trained. This will be used to get the category label names from the predicted class ids."
   ]
  },
  {
   "cell_type": "code",
   "execution_count": 10,
   "id": "increasing-memorabilia",
   "metadata": {
    "id": "increasing-memorabilia"
   },
   "outputs": [],
   "source": [
    "json_url = \"https://dl.fbaipublicfiles.com/pyslowfast/dataset/class_names/kinetics_classnames.json\"\n",
    "json_filename = \"kinetics_classnames.json\"\n",
    "try: urllib.URLopener().retrieve(json_url, json_filename)\n",
    "except: urllib.request.urlretrieve(json_url, json_filename)"
   ]
  },
  {
   "cell_type": "code",
   "execution_count": 11,
   "id": "joint-cookbook",
   "metadata": {
    "id": "joint-cookbook"
   },
   "outputs": [],
   "source": [
    "with open(json_filename, \"r\") as f:\n",
    "    kinetics_classnames = json.load(f)\n",
    "\n",
    "# Create an id to label name mapping\n",
    "kinetics_id_to_classname = {}\n",
    "for k, v in kinetics_classnames.items():\n",
    "    kinetics_id_to_classname[v] = str(k).replace('\"', \"\")"
   ]
  },
  {
   "cell_type": "markdown",
   "id": "bronze-disability",
   "metadata": {
    "id": "bronze-disability"
   },
   "source": [
    "#### Define input transform"
   ]
  },
  {
   "cell_type": "code",
   "execution_count": 12,
   "id": "stock-complexity",
   "metadata": {
    "id": "stock-complexity"
   },
   "outputs": [],
   "source": [
    "side_size = 256\n",
    "mean = [0.45, 0.45, 0.45]\n",
    "std = [0.225, 0.225, 0.225]\n",
    "crop_size = 256\n",
    "num_frames = 32\n",
    "sampling_rate = 2\n",
    "frames_per_second = 30\n",
    "slowfast_alpha = 4\n",
    "num_clips = 10\n",
    "num_crops = 3\n",
    "\n",
    "class PackPathway(torch.nn.Module):\n",
    "    \"\"\"\n",
    "    Transform for converting video frames as a list of tensors. \n",
    "    \"\"\"\n",
    "    def __init__(self):\n",
    "        super().__init__()\n",
    "        \n",
    "    def forward(self, frames: torch.Tensor):\n",
    "        fast_pathway = frames\n",
    "        # Perform temporal sampling from the fast pathway.\n",
    "        slow_pathway = torch.index_select(\n",
    "            frames,\n",
    "            1,\n",
    "            torch.linspace(\n",
    "                0, frames.shape[1] - 1, frames.shape[1] // slowfast_alpha\n",
    "            ).long(),\n",
    "        )\n",
    "        frame_list = [slow_pathway, fast_pathway]\n",
    "        return frame_list\n",
    "\n",
    "transform =  ApplyTransformToKey(\n",
    "    key=\"video\",\n",
    "    transform=Compose(\n",
    "        [\n",
    "            UniformTemporalSubsample(num_frames),\n",
    "            Lambda(lambda x: x/255.0),\n",
    "            NormalizeVideo(mean, std),\n",
    "            ShortSideScale(\n",
    "                size=side_size\n",
    "            ),\n",
    "            CenterCropVideo(crop_size),\n",
    "            PackPathway()\n",
    "        ]\n",
    "    ),\n",
    ")\n",
    "\n",
    "# The duration of the input clip is also specific to the model.\n",
    "clip_duration = (num_frames * sampling_rate)/frames_per_second"
   ]
  },
  {
   "cell_type": "markdown",
   "id": "honey-gathering",
   "metadata": {
    "id": "honey-gathering"
   },
   "source": [
    "#### Run Inference\n",
    "\n",
    "Download an example video."
   ]
  },
  {
   "cell_type": "code",
   "execution_count": 13,
   "id": "mysterious-motion",
   "metadata": {
    "id": "mysterious-motion"
   },
   "outputs": [],
   "source": [
    "url_link = \"https://dl.fbaipublicfiles.com/pytorchvideo/projects/archery.mp4\"\n",
    "video_path = 'archery.mp4'\n",
    "try: urllib.URLopener().retrieve(url_link, video_path)\n",
    "except: urllib.request.urlretrieve(url_link, video_path)"
   ]
  },
  {
   "cell_type": "markdown",
   "id": "hybrid-explorer",
   "metadata": {
    "id": "hybrid-explorer"
   },
   "source": [
    "Load the video and transform it to the input format required by the model."
   ]
  },
  {
   "cell_type": "code",
   "execution_count": 14,
   "id": "historical-understanding",
   "metadata": {
    "id": "historical-understanding"
   },
   "outputs": [],
   "source": [
    "# Select the duration of the clip to load by specifying the start and end duration\n",
    "# The start_sec should correspond to where the action occurs in the video\n",
    "start_sec = 0\n",
    "end_sec = start_sec + clip_duration\n",
    "\n",
    "# Initialize an EncodedVideo helper class and load the video\n",
    "video = EncodedVideo.from_path(video_path)\n",
    "\n",
    "# Load the desired clip\n",
    "video_data = video.get_clip(start_sec=start_sec, end_sec=end_sec)\n",
    "\n",
    "# Apply a transform to normalize the video input\n",
    "video_data = transform(video_data)\n",
    "\n",
    "# Move the inputs to the desired device\n",
    "inputs = video_data[\"video\"]\n",
    "inputs = [i.to(device)[None, ...] for i in inputs]"
   ]
  },
  {
   "cell_type": "markdown",
   "id": "legitimate-bosnia",
   "metadata": {
    "id": "legitimate-bosnia"
   },
   "source": [
    "#### Get Predictions"
   ]
  },
  {
   "cell_type": "code",
   "execution_count": 15,
   "id": "subtle-performance",
   "metadata": {
    "id": "subtle-performance"
   },
   "outputs": [
    {
     "name": "stdout",
     "output_type": "stream",
     "text": [
      "Top 5 predicted labels: archery, throwing axe, playing paintball, disc golfing, riding or walking with horse\n"
     ]
    }
   ],
   "source": [
    "# Pass the input clip through the model\n",
    "preds = model(inputs)\n",
    "\n",
    "# Get the predicted classes\n",
    "post_act = torch.nn.Softmax(dim=1)\n",
    "preds = post_act(preds)\n",
    "pred_classes = preds.topk(k=5).indices[0]\n",
    "\n",
    "# Map the predicted classes to the label names\n",
    "pred_class_names = [kinetics_id_to_classname[int(i)] for i in pred_classes]\n",
    "print(\"Top 5 predicted labels: %s\" % \", \".join(pred_class_names))"
   ]
  },
  {
   "cell_type": "markdown",
   "id": "thousand-vegetarian",
   "metadata": {
    "id": "thousand-vegetarian"
   },
   "source": [
    "### Model Description\n",
    "SlowFast model architectures are based on [1] with pretrained weights using the 8x8 setting\n",
    "on the Kinetics dataset. \n",
    "\n",
    "| arch | depth | frame length x sample rate | top 1 | top 5 | Flops (G) | Params (M) |\n",
    "| --------------- | ----------- | ----------- | ----------- | ----------- | ----------- |  ----------- | ----------- |\n",
    "| SlowFast | R50   | 8x8                        | 76.94 | 92.69 | 65.71     | 34.57      |\n",
    "| SlowFast | R101  | 8x8                        | 77.90 | 93.27 | 127.20    | 62.83      |\n",
    "\n",
    "\n",
    "### References\n",
    "[1] Christoph Feichtenhofer et al, \"SlowFast Networks for Video Recognition\"\n",
    "https://arxiv.org/pdf/1812.03982.pdf"
   ]
  },
  {
   "cell_type": "code",
   "execution_count": null,
   "id": "7d8f306f",
   "metadata": {},
   "outputs": [],
   "source": []
  }
 ],
 "metadata": {
  "colab": {
   "provenance": []
  },
  "kernelspec": {
   "display_name": "Python 3 (ipykernel)",
   "language": "python",
   "name": "python3"
  },
  "language_info": {
   "codemirror_mode": {
    "name": "ipython",
    "version": 3
   },
   "file_extension": ".py",
   "mimetype": "text/x-python",
   "name": "python",
   "nbconvert_exporter": "python",
   "pygments_lexer": "ipython3",
   "version": "3.9.15"
  }
 },
 "nbformat": 4,
 "nbformat_minor": 5
}
